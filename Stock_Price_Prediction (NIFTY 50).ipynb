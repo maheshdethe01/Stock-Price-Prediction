{
 "cells": [
  {
   "cell_type": "code",
   "execution_count": 1,
   "id": "f3ff1cb3",
   "metadata": {},
   "outputs": [],
   "source": [
    "#yahoo finance as data source\n",
    "# !pip3 install yfinance\n",
    "import yfinance as yf\n",
    "from oauth2client.service_account import ServiceAccountCredentials\n",
    "import gspread as gs\n",
    "import gspread_dataframe as gd\n",
    "import pandas as pd\n",
    "import numpy as np\n",
    "import matplotlib.pyplot as plt\n",
    "import datetime\n",
    "import time"
   ]
  },
  {
   "cell_type": "code",
   "execution_count": 2,
   "id": "453ab2c0",
   "metadata": {},
   "outputs": [],
   "source": [
    "scope =[\"https://spreadsheets.google.com/feeds\",'https://www.googleapis.com/auth/spreadsheets',\n",
    "        \"https://www.googleapis.com/auth/drive.file\",\"https://www.googleapis.com/auth/drive\"]"
   ]
  },
  {
   "cell_type": "code",
   "execution_count": 3,
   "id": "5b8d5bae",
   "metadata": {},
   "outputs": [],
   "source": [
    "creds=ServiceAccountCredentials.from_json_keyfile_name(r\"C:\\Users\\MAHESH DETHE\\Downloads\\GROUP PROJECT API KEY.json\",scope)"
   ]
  },
  {
   "cell_type": "code",
   "execution_count": 4,
   "id": "889f0f32",
   "metadata": {},
   "outputs": [],
   "source": [
    "client = gs.authorize(creds)"
   ]
  },
  {
   "cell_type": "code",
   "execution_count": 5,
   "id": "aa74bbf6",
   "metadata": {},
   "outputs": [],
   "source": [
    "file = client.open(\"Final Template\").sheet1"
   ]
  },
  {
   "cell_type": "code",
   "execution_count": 6,
   "id": "3c0f504d",
   "metadata": {},
   "outputs": [],
   "source": [
    "path = r\"C:\\Users\\MAHESH DETHE\\Downloads\\MW-NIFTY-50-04-Nov-2022.csv\"\n",
    "nifty = pd.read_csv(path)\n",
    "comp_data = nifty['SYMBOL \\n'][1:].values.tolist()    #  list of Nifty 50 companies"
   ]
  },
  {
   "cell_type": "code",
   "execution_count": 7,
   "id": "f4d5d8c2",
   "metadata": {},
   "outputs": [],
   "source": [
    "# main = pd.DataFrame()\n",
    "# for i in comp_data:\n",
    "#     stock_symbol = i + '.NS'\n",
    "#     data = yf.download(tickers = stock_symbol,period = '4y',interval = '1d' )\n",
    "#     data['Name'] = i\n",
    "#     main = pd.concat([main,data],axis = 0)\n",
    "# main = main.reset_index()\n",
    "# main = main.sort_values(['Name','Date'])\n",
    "# main.to_csv('stock_price_data')"
   ]
  },
  {
   "cell_type": "code",
   "execution_count": 8,
   "id": "3bb83da3",
   "metadata": {},
   "outputs": [],
   "source": [
    "main = pd.read_csv(r\"C:\\Users\\MAHESH DETHE\\Downloads\\stock_price_data\")"
   ]
  },
  {
   "cell_type": "code",
   "execution_count": 9,
   "id": "2ada76d5",
   "metadata": {},
   "outputs": [
    {
     "data": {
      "text/plain": [
       "Index(['Unnamed: 0', 'Date', 'Open', 'High', 'Low', 'Close', 'Adj Close',\n",
       "       'Volume', 'Name'],\n",
       "      dtype='object')"
      ]
     },
     "execution_count": 9,
     "metadata": {},
     "output_type": "execute_result"
    }
   ],
   "source": [
    "main.columns"
   ]
  },
  {
   "cell_type": "code",
   "execution_count": 10,
   "id": "e58b5b38",
   "metadata": {},
   "outputs": [],
   "source": [
    "data = main[main['Name'] == 'TCS']             # data for training the model"
   ]
  },
  {
   "cell_type": "code",
   "execution_count": 11,
   "id": "4abd23a2",
   "metadata": {},
   "outputs": [],
   "source": [
    "opn = data[['Open']]"
   ]
  },
  {
   "cell_type": "code",
   "execution_count": 12,
   "id": "7492cfca",
   "metadata": {},
   "outputs": [
    {
     "data": {
      "text/plain": [
       "<AxesSubplot:>"
      ]
     },
     "execution_count": 12,
     "metadata": {},
     "output_type": "execute_result"
    },
    {
     "data": {
      "image/png": "[encoded data removed]",
      "text/plain": [
       "<Figure size 432x288 with 1 Axes>"
      ]
     },
     "metadata": {
      "needs_background": "light"
     },
     "output_type": "display_data"
    }
   ],
   "source": [
    "opn.plot()"
   ]
  },
  {
   "cell_type": "code",
   "execution_count": 13,
   "id": "a7648dd8",
   "metadata": {},
   "outputs": [],
   "source": [
    "df = opn.values"
   ]
  },
  {
   "cell_type": "code",
   "execution_count": 14,
   "id": "130e538c",
   "metadata": {},
   "outputs": [],
   "source": [
    "from sklearn.preprocessing import StandardScaler\n",
    "# Using MinMaxScaler for normalizing data \n",
    "mm = StandardScaler()\n",
    "scaled_df = mm.fit_transform(np.array(df).reshape(-1,1))  #df is list of open stock prices of the company"
   ]
  },
  {
   "cell_type": "code",
   "execution_count": 15,
   "id": "a3f616c9",
   "metadata": {},
   "outputs": [],
   "source": [
    "#Defining test and train data sizes\n",
    "train_size = int(len(scaled_df)*0.70)\n",
    "test_size = len(scaled_df) - train_size    "
   ]
  },
  {
   "cell_type": "code",
   "execution_count": 16,
   "id": "67a62042",
   "metadata": {},
   "outputs": [],
   "source": [
    "#Splitting data between train and test\n",
    "ds_train, ds_test = scaled_df[0:train_size,:], scaled_df[train_size:len(scaled_df),:1]     \n",
    "# we are splitting it without sklearn cause it will take random dates but we want sequential records ."
   ]
  },
  {
   "cell_type": "code",
   "execution_count": 17,
   "id": "1392462f",
   "metadata": {},
   "outputs": [],
   "source": [
    "# Creating dataset in time series for LSTM model \n",
    "def create_df(dataset,k):\n",
    "    Xtrain, Ytrain = [] , []\n",
    "    for i in range(len(dataset)-k-1):\n",
    "        new_df = dataset[i:(i+k), 0]\n",
    "        Xtrain.append(new_df)\n",
    "        Ytrain.append(dataset[i + k, 0])\n",
    "    return np.array(Xtrain), np.array(Ytrain)"
   ]
  },
  {
   "cell_type": "code",
   "execution_count": 18,
   "id": "464b60de",
   "metadata": {},
   "outputs": [],
   "source": [
    "# Taking 100 days price as one record for training\n",
    "time_stamp = 100\n",
    "X_train, y_train = create_df(ds_train,time_stamp)\n",
    "X_test, y_test = create_df(ds_test,time_stamp)"
   ]
  },
  {
   "cell_type": "code",
   "execution_count": 19,
   "id": "fdc71924",
   "metadata": {},
   "outputs": [],
   "source": [
    "# Reshaping data to fit into LSTM model\n",
    "X_train = X_train.reshape(X_train.shape[0],X_train.shape[1] , 1)\n",
    "X_test = X_test.reshape(X_test.shape[0],X_test.shape[1] , 1)"
   ]
  },
  {
   "cell_type": "code",
   "execution_count": 20,
   "id": "265fc892",
   "metadata": {},
   "outputs": [],
   "source": [
    "# importing LSTM \n",
    "from keras.models import Sequential\n",
    "from keras.layers import Dense, LSTM"
   ]
  },
  {
   "cell_type": "code",
   "execution_count": 21,
   "id": "02044a45",
   "metadata": {},
   "outputs": [
    {
     "name": "stdout",
     "output_type": "stream",
     "text": [
      "Model: \"sequential\"\n",
      "_________________________________________________________________\n",
      " Layer (type)                Output Shape              Param #   \n",
      "=================================================================\n",
      " lstm (LSTM)                 (None, 100, 50)           10400     \n",
      "                                                                 \n",
      " lstm_1 (LSTM)               (None, 100, 50)           20200     \n",
      "                                                                 \n",
      " lstm_2 (LSTM)               (None, 50)                20200     \n",
      "                                                                 \n",
      " dense (Dense)               (None, 1)                 51        \n",
      "                                                                 \n",
      "=================================================================\n",
      "Total params: 50,851\n",
      "Trainable params: 50,851\n",
      "Non-trainable params: 0\n",
      "_________________________________________________________________\n"
     ]
    }
   ],
   "source": [
    "# Creating LSTM model using keras\n",
    "model = Sequential()\n",
    "model.add(LSTM(units=50,return_sequences=True,input_shape=(X_train.shape[1],1)))\n",
    "model.add(LSTM(units=50,return_sequences=True))\n",
    "model.add(LSTM(units=50))\n",
    "model.add(Dense(units=1,activation='linear'))\n",
    "model.summary()"
   ]
  },
  {
   "cell_type": "code",
   "execution_count": 22,
   "id": "4d394a2a",
   "metadata": {},
   "outputs": [
    {
     "name": "stdout",
     "output_type": "stream",
     "text": [
      "Epoch 1/10\n",
      "10/10 [==============================] - 13s 309ms/step - loss: 0.2776 - val_loss: 0.2636\n",
      "Epoch 2/10\n",
      "10/10 [==============================] - 2s 180ms/step - loss: 0.0594 - val_loss: 0.0643\n",
      "Epoch 3/10\n",
      "10/10 [==============================] - 2s 165ms/step - loss: 0.0415 - val_loss: 0.0640\n",
      "Epoch 4/10\n",
      "10/10 [==============================] - 1s 151ms/step - loss: 0.0336 - val_loss: 0.0858\n",
      "Epoch 5/10\n",
      "10/10 [==============================] - 1s 141ms/step - loss: 0.0291 - val_loss: 0.0880\n",
      "Epoch 6/10\n",
      "10/10 [==============================] - 2s 155ms/step - loss: 0.0266 - val_loss: 0.0795\n",
      "Epoch 7/10\n",
      "10/10 [==============================] - 2s 204ms/step - loss: 0.0256 - val_loss: 0.0759\n",
      "Epoch 8/10\n",
      "10/10 [==============================] - 2s 198ms/step - loss: 0.0247 - val_loss: 0.0945\n",
      "Epoch 9/10\n",
      "10/10 [==============================] - 2s 191ms/step - loss: 0.0246 - val_loss: 0.0812\n",
      "Epoch 10/10\n",
      "10/10 [==============================] - 2s 195ms/step - loss: 0.0231 - val_loss: 0.0694\n"
     ]
    },
    {
     "data": {
      "text/plain": [
       "<keras.callbacks.History at 0x29381521970>"
      ]
     },
     "execution_count": 22,
     "metadata": {},
     "output_type": "execute_result"
    }
   ],
   "source": [
    "#Training model with adam optimizer and mean squared error loss function\n",
    "model.compile( loss = 'mean_squared_error', optimizer = 'adam' )\n",
    "model.fit(X_train,y_train,validation_data = (X_test , y_test), epochs = 10, batch_size = 64 )"
   ]
  },
  {
   "cell_type": "code",
   "execution_count": 23,
   "id": "259affdc",
   "metadata": {},
   "outputs": [
    {
     "data": {
      "text/plain": [
       "[<matplotlib.lines.Line2D at 0x29389bdec70>]"
      ]
     },
     "execution_count": 23,
     "metadata": {},
     "output_type": "execute_result"
    },
    {
     "data": {
      "image/png": "[encoded data removed]",
      "text/plain": [
       "<Figure size 432x288 with 1 Axes>"
      ]
     },
     "metadata": {
      "needs_background": "light"
     },
     "output_type": "display_data"
    }
   ],
   "source": [
    "#PLotting loss, it shows that loss has decreased significantly and model trained well\n",
    "loss = model.history.history['loss']\n",
    "plt.plot(loss)"
   ]
  },
  {
   "cell_type": "code",
   "execution_count": 24,
   "id": "47734c56",
   "metadata": {},
   "outputs": [
    {
     "name": "stdout",
     "output_type": "stream",
     "text": [
      "19/19 [==============================] - 2s 27ms/step\n",
      "7/7 [==============================] - 0s 21ms/step\n"
     ]
    }
   ],
   "source": [
    "#Predicitng on train and test data\n",
    "train_predict = model.predict(X_train)\n",
    "test_predict = model.predict(X_test)"
   ]
  },
  {
   "cell_type": "code",
   "execution_count": 25,
   "id": "bf809033",
   "metadata": {},
   "outputs": [],
   "source": [
    "#Inverse transform to get actual value\n",
    "train_predict = mm.inverse_transform(train_predict)\n",
    "test_predict = mm.inverse_transform(test_predict)"
   ]
  },
  {
   "cell_type": "code",
   "execution_count": 26,
   "id": "58bf955b",
   "metadata": {},
   "outputs": [
    {
     "data": {
      "text/plain": [
       "[<matplotlib.lines.Line2D at 0x2938c0f2dc0>]"
      ]
     },
     "execution_count": 26,
     "metadata": {},
     "output_type": "execute_result"
    },
    {
     "data": {
      "image/png": "[encoded data removed]",
      "text/plain": [
       "<Figure size 432x288 with 1 Axes>"
      ]
     },
     "metadata": {
      "needs_background": "light"
     },
     "output_type": "display_data"
    }
   ],
   "source": [
    "#Comparing using visuals\n",
    "plt.plot(mm.inverse_transform(scaled_df))\n",
    "plt.plot(train_predict)\n",
    "plt.plot(test_predict)"
   ]
  },
  {
   "cell_type": "code",
   "execution_count": 27,
   "id": "1ce359e4",
   "metadata": {},
   "outputs": [],
   "source": [
    "test = np.vstack((train_predict,test_predict))"
   ]
  },
  {
   "cell_type": "code",
   "execution_count": 28,
   "id": "34906ff3",
   "metadata": {},
   "outputs": [
    {
     "data": {
      "text/plain": [
       "[<matplotlib.lines.Line2D at 0x2938c0cbbb0>]"
      ]
     },
     "execution_count": 28,
     "metadata": {},
     "output_type": "execute_result"
    },
    {
     "data": {
      "image/png": "[encoded data removed]",
      "text/plain": [
       "<Figure size 432x288 with 1 Axes>"
      ]
     },
     "metadata": {
      "needs_background": "light"
     },
     "output_type": "display_data"
    }
   ],
   "source": [
    "# Combining the predited data to create uniform data visualization\n",
    "plt.plot(mm.inverse_transform(scaled_df))\n",
    "plt.plot(test)"
   ]
  },
  {
   "cell_type": "code",
   "execution_count": 29,
   "id": "0a134e88",
   "metadata": {},
   "outputs": [],
   "source": [
    "# function for automating gsheet\n",
    "def main_fn():\n",
    "    name = file.cell(1,4).value     #checking company name\n",
    "    # for buying date\n",
    "    buy_date = file.cell(3,4).value.split('-')  #checking buying date\n",
    "    \n",
    "    y_buy  = [int(i) for i in buy_date]\n",
    "    b_date = datetime.date(y_buy[0],y_buy[1],y_buy[2])\n",
    "    \n",
    "    #if date is in the data,take the same stock price as in the data else predict\n",
    "    \n",
    "    sub = main[main['Name'] == name]\n",
    "    x = file.cell(3,4).value\n",
    "    if x in main['Date'].values:\n",
    "        val_x = sub.loc[sub['Date'] == x,'Open'].values[0]\n",
    "        file.update_cell(7,4,val_x)\n",
    "    elif b_date >= datetime.date(2022,11,5):\n",
    "        diff = (b_date - datetime.date(2022,11,4)).days\n",
    "        #predict\n",
    "        #Getting the last 100 days records\n",
    "        m = sub['Open'].tail(100)\n",
    "        fut_inp = sub['Open'].tail(100).values.reshape(-1,1).reshape(1,-1)\n",
    "        tmp_inp = list(fut_inp)\n",
    "        #Creating list of the last 100 data\n",
    "        tmp_inp = tmp_inp[0].tolist()\n",
    "        list_output=[]\n",
    "        n_steps=100\n",
    "        i=0\n",
    "        while(i < diff ):\n",
    "            if(len(tmp_inp)>100):\n",
    "                fut_inp = np.array(tmp_inp[1:])\n",
    "                fut_inp=fut_inp.reshape(1,-1)\n",
    "                fut_inp = fut_inp.reshape((1, n_steps, 1))\n",
    "                y_pred = model.predict(fut_inp, verbose=0)\n",
    "                tmp_inp.extend(y_pred[0].tolist())\n",
    "                tmp_inp = tmp_inp[1:]\n",
    "                list_output.extend(y_pred.tolist())\n",
    "                i = i + 1\n",
    "            else:\n",
    "                fut_inp = fut_inp.reshape((1, n_steps,1))\n",
    "                y_pred = model.predict(fut_inp, verbose=0)\n",
    "                tmp_inp.extend(y_pred[0].tolist())\n",
    "                list_output.extend(y_pred.tolist())\n",
    "                i = i + 1\n",
    "        from sklearn.preprocessing import StandardScaler\n",
    "        # Using StandardScaler for normalizing data \n",
    "        MM1 = StandardScaler()\n",
    "        scaled_df_1 = MM1.fit_transform(np.array(m).reshape(-1,1))  #df is list of open stock prices of the company\n",
    "        final = MM1.inverse_transform([[list_output[-1][-1]]])[0][0]\n",
    "        file.update_cell(7,4,final)            \n",
    "    #checking selling date\n",
    "    sell_date = file.cell(4,4).value.split('-')\n",
    "    y_sell = [int(i) for i in sell_date]\n",
    "    s_date = datetime.date(y_sell[0],y_sell[1],y_sell[2])\n",
    "    #if date is in the data,take the same stock price as in the data else predict\n",
    "    y = file.cell(4,4).value\n",
    "    if y in main['Date'].values:\n",
    "        val_y = sub.loc[sub['Date'] == y,'Open'].values[0]\n",
    "        file.update_cell(8,4,val_y)\n",
    "    elif s_date >= datetime.date(2022,11,5):\n",
    "        diff = (s_date - datetime.date(2022,11,4)).days\n",
    "        #predict\n",
    "        #Getting the last 100 days records\n",
    "        n = sub['Open'].tail(100)\n",
    "        fut_inp1 = sub['Open'].tail(100).values.reshape(-1,1).reshape(1,-1)\n",
    "        tmp_inp1 = list(fut_inp1)\n",
    "        #Creating list of the last 100 data\n",
    "        tmp_inp1 = tmp_inp1[0].tolist()\n",
    "        list_output1=[]\n",
    "        n_steps = 100\n",
    "        i = 0\n",
    "        while(i < diff  ):\n",
    "            if(len(tmp_inp1)>100):\n",
    "                fut_inp1 = np.array(tmp_inp1[1:])\n",
    "                fut_inp1 = fut_inp1.reshape(1,-1)\n",
    "                fut_inp1 = fut_inp1.reshape((1, n_steps, 1))\n",
    "                y_pred1 = model.predict(fut_inp1, verbose=0)\n",
    "                tmp_inp1.extend(y_pred1[0].tolist())\n",
    "                tmp_inp1 = tmp_inp1[1:]\n",
    "                list_output1.extend(y_pred1.tolist())\n",
    "                i = i + 1\n",
    "            else:\n",
    "                fut_inp1 = fut_inp1.reshape((1, n_steps,1))\n",
    "                y_pred1 = model.predict(fut_inp1, verbose=0)\n",
    "                tmp_inp1.extend(y_pred1[0].tolist())\n",
    "                list_output1.extend(y_pred1.tolist())\n",
    "                i = i + 1\n",
    "        from sklearn.preprocessing import StandardScaler\n",
    "        # Using StandardScaler for normalizing data \n",
    "        MM2 = StandardScaler()\n",
    "        scaled_df_2 = MM2.fit_transform(np.array(n).reshape(-1,1))  #df is list of open stock prices of the company\n",
    "        final1 = MM2.inverse_transform([[list_output1[-1][-1]]])[0][0]\n",
    "        file.update_cell(8,4,final1)"
   ]
  },
  {
   "cell_type": "code",
   "execution_count": 36,
   "id": "78436c7b",
   "metadata": {},
   "outputs": [
    {
     "ename": "APIError",
     "evalue": "{'code': 429, 'message': \"Quota exceeded for quota metric 'Read requests' and limit 'Read requests per minute per user' of service 'sheets.googleapis.com' for consumer 'project_number:902170699260'.\", 'status': 'RESOURCE_EXHAUSTED', 'details': [{'@type': 'type.googleapis.com/google.rpc.ErrorInfo', 'reason': 'RATE_LIMIT_EXCEEDED', 'domain': 'googleapis.com', 'metadata': {'service': 'sheets.googleapis.com', 'quota_limit_value': '60', 'quota_limit': 'ReadRequestsPerMinutePerUser', 'quota_location': 'global', 'consumer': 'projects/902170699260', 'quota_metric': 'sheets.googleapis.com/read_requests'}}, {'@type': 'type.googleapis.com/google.rpc.Help', 'links': [{'description': 'Request a higher quota limit.', 'url': 'https://cloud.google.com/docs/quota#requesting_higher_quota'}]}]}",
     "output_type": "error",
     "traceback": [
      "\u001b[1;31m---------------------------------------------------------------------------\u001b[0m",
      "\u001b[1;31mAPIError\u001b[0m                                  Traceback (most recent call last)",
      "Input \u001b[1;32mIn [36]\u001b[0m, in \u001b[0;36m<cell line: 2>\u001b[1;34m()\u001b[0m\n\u001b[0;32m      1\u001b[0m \u001b[38;5;28;01mwhile\u001b[39;00m \u001b[38;5;28;01mTrue\u001b[39;00m:\n\u001b[1;32m----> 2\u001b[0m     \u001b[43mmain_fn\u001b[49m\u001b[43m(\u001b[49m\u001b[43m)\u001b[49m\n\u001b[0;32m      3\u001b[0m     time\u001b[38;5;241m.\u001b[39msleep(\u001b[38;5;241m1\u001b[39m)\n",
      "Input \u001b[1;32mIn [29]\u001b[0m, in \u001b[0;36mmain_fn\u001b[1;34m()\u001b[0m\n\u001b[0;32m      3\u001b[0m name \u001b[38;5;241m=\u001b[39m file\u001b[38;5;241m.\u001b[39mcell(\u001b[38;5;241m1\u001b[39m,\u001b[38;5;241m4\u001b[39m)\u001b[38;5;241m.\u001b[39mvalue     \u001b[38;5;66;03m#checking company name\u001b[39;00m\n\u001b[0;32m      4\u001b[0m \u001b[38;5;66;03m# for buying date\u001b[39;00m\n\u001b[1;32m----> 5\u001b[0m buy_date \u001b[38;5;241m=\u001b[39m \u001b[43mfile\u001b[49m\u001b[38;5;241;43m.\u001b[39;49m\u001b[43mcell\u001b[49m\u001b[43m(\u001b[49m\u001b[38;5;241;43m3\u001b[39;49m\u001b[43m,\u001b[49m\u001b[38;5;241;43m4\u001b[39;49m\u001b[43m)\u001b[49m\u001b[38;5;241m.\u001b[39mvalue\u001b[38;5;241m.\u001b[39msplit(\u001b[38;5;124m'\u001b[39m\u001b[38;5;124m-\u001b[39m\u001b[38;5;124m'\u001b[39m)  \u001b[38;5;66;03m#checking buying date\u001b[39;00m\n\u001b[0;32m      7\u001b[0m y_buy  \u001b[38;5;241m=\u001b[39m [\u001b[38;5;28mint\u001b[39m(i) \u001b[38;5;28;01mfor\u001b[39;00m i \u001b[38;5;129;01min\u001b[39;00m buy_date]\n\u001b[0;32m      8\u001b[0m b_date \u001b[38;5;241m=\u001b[39m datetime\u001b[38;5;241m.\u001b[39mdate(y_buy[\u001b[38;5;241m0\u001b[39m],y_buy[\u001b[38;5;241m1\u001b[39m],y_buy[\u001b[38;5;241m2\u001b[39m])\n",
      "File \u001b[1;32m~\\AppData\\Roaming\\Python\\Python39\\site-packages\\gspread\\worksheet.py:248\u001b[0m, in \u001b[0;36mWorksheet.cell\u001b[1;34m(self, row, col, value_render_option)\u001b[0m\n\u001b[0;32m    224\u001b[0m \u001b[38;5;124;03m\"\"\"Returns an instance of a :class:`gspread.cell.Cell` located at\u001b[39;00m\n\u001b[0;32m    225\u001b[0m \u001b[38;5;124;03m`row` and `col` column.\u001b[39;00m\n\u001b[0;32m    226\u001b[0m \n\u001b[1;32m   (...)\u001b[0m\n\u001b[0;32m    245\u001b[0m \u001b[38;5;124;03m:rtype: :class:`gspread.cell.Cell`\u001b[39;00m\n\u001b[0;32m    246\u001b[0m \u001b[38;5;124;03m\"\"\"\u001b[39;00m\n\u001b[0;32m    247\u001b[0m \u001b[38;5;28;01mtry\u001b[39;00m:\n\u001b[1;32m--> 248\u001b[0m     data \u001b[38;5;241m=\u001b[39m \u001b[38;5;28;43mself\u001b[39;49m\u001b[38;5;241;43m.\u001b[39;49m\u001b[43mget\u001b[49m\u001b[43m(\u001b[49m\n\u001b[0;32m    249\u001b[0m \u001b[43m        \u001b[49m\u001b[43mrowcol_to_a1\u001b[49m\u001b[43m(\u001b[49m\u001b[43mrow\u001b[49m\u001b[43m,\u001b[49m\u001b[43m \u001b[49m\u001b[43mcol\u001b[49m\u001b[43m)\u001b[49m\u001b[43m,\u001b[49m\u001b[43m \u001b[49m\u001b[43mvalue_render_option\u001b[49m\u001b[38;5;241;43m=\u001b[39;49m\u001b[43mvalue_render_option\u001b[49m\n\u001b[0;32m    250\u001b[0m \u001b[43m    \u001b[49m\u001b[43m)\u001b[49m\n\u001b[0;32m    252\u001b[0m     value \u001b[38;5;241m=\u001b[39m data\u001b[38;5;241m.\u001b[39mfirst()\n\u001b[0;32m    253\u001b[0m \u001b[38;5;28;01mexcept\u001b[39;00m \u001b[38;5;167;01mKeyError\u001b[39;00m:\n",
      "File \u001b[1;32m~\\AppData\\Roaming\\Python\\Python39\\site-packages\\gspread\\utils.py:671\u001b[0m, in \u001b[0;36maccepted_kwargs.<locals>.decorate.<locals>.wrapper\u001b[1;34m(*args, **kwargs)\u001b[0m\n\u001b[0;32m    668\u001b[0m \u001b[38;5;28;01mfor\u001b[39;00m k, v \u001b[38;5;129;01min\u001b[39;00m default_kwargs\u001b[38;5;241m.\u001b[39mitems():\n\u001b[0;32m    669\u001b[0m     kwargs\u001b[38;5;241m.\u001b[39msetdefault(k, v)\n\u001b[1;32m--> 671\u001b[0m \u001b[38;5;28;01mreturn\u001b[39;00m f(\u001b[38;5;241m*\u001b[39margs, \u001b[38;5;241m*\u001b[39m\u001b[38;5;241m*\u001b[39mkwargs)\n",
      "File \u001b[1;32m~\\AppData\\Roaming\\Python\\Python39\\site-packages\\gspread\\worksheet.py:713\u001b[0m, in \u001b[0;36mWorksheet.get\u001b[1;34m(self, range_name, **kwargs)\u001b[0m\n\u001b[0;32m    703\u001b[0m range_name \u001b[38;5;241m=\u001b[39m absolute_range_name(\u001b[38;5;28mself\u001b[39m\u001b[38;5;241m.\u001b[39mtitle, range_name)\n\u001b[0;32m    705\u001b[0m params \u001b[38;5;241m=\u001b[39m filter_dict_values(\n\u001b[0;32m    706\u001b[0m     {\n\u001b[0;32m    707\u001b[0m         \u001b[38;5;124m\"\u001b[39m\u001b[38;5;124mmajorDimension\u001b[39m\u001b[38;5;124m\"\u001b[39m: kwargs[\u001b[38;5;124m\"\u001b[39m\u001b[38;5;124mmajor_dimension\u001b[39m\u001b[38;5;124m\"\u001b[39m],\n\u001b[1;32m   (...)\u001b[0m\n\u001b[0;32m    710\u001b[0m     }\n\u001b[0;32m    711\u001b[0m )\n\u001b[1;32m--> 713\u001b[0m response \u001b[38;5;241m=\u001b[39m \u001b[38;5;28;43mself\u001b[39;49m\u001b[38;5;241;43m.\u001b[39;49m\u001b[43mspreadsheet\u001b[49m\u001b[38;5;241;43m.\u001b[39;49m\u001b[43mvalues_get\u001b[49m\u001b[43m(\u001b[49m\u001b[43mrange_name\u001b[49m\u001b[43m,\u001b[49m\u001b[43m \u001b[49m\u001b[43mparams\u001b[49m\u001b[38;5;241;43m=\u001b[39;49m\u001b[43mparams\u001b[49m\u001b[43m)\u001b[49m\n\u001b[0;32m    715\u001b[0m \u001b[38;5;28;01mreturn\u001b[39;00m ValueRange\u001b[38;5;241m.\u001b[39mfrom_json(response)\n",
      "File \u001b[1;32m~\\AppData\\Roaming\\Python\\Python39\\site-packages\\gspread\\spreadsheet.py:182\u001b[0m, in \u001b[0;36mSpreadsheet.values_get\u001b[1;34m(self, range, params)\u001b[0m\n\u001b[0;32m    172\u001b[0m \u001b[38;5;124;03m\"\"\"Lower-level method that directly calls `spreadsheets/<ID>/values/<range> <https://developers.google.com/sheets/api/reference/rest/v4/spreadsheets.values/get>`_.\u001b[39;00m\n\u001b[0;32m    173\u001b[0m \n\u001b[0;32m    174\u001b[0m \u001b[38;5;124;03m:param str range: The `A1 notation <https://developers.google.com/sheets/api/guides/concepts#a1_notation>`_ of the values to retrieve.\u001b[39;00m\n\u001b[1;32m   (...)\u001b[0m\n\u001b[0;32m    179\u001b[0m \u001b[38;5;124;03m.. versionadded:: 3.0\u001b[39;00m\n\u001b[0;32m    180\u001b[0m \u001b[38;5;124;03m\"\"\"\u001b[39;00m\n\u001b[0;32m    181\u001b[0m url \u001b[38;5;241m=\u001b[39m SPREADSHEET_VALUES_URL \u001b[38;5;241m%\u001b[39m (\u001b[38;5;28mself\u001b[39m\u001b[38;5;241m.\u001b[39mid, quote(\u001b[38;5;28mrange\u001b[39m))\n\u001b[1;32m--> 182\u001b[0m r \u001b[38;5;241m=\u001b[39m \u001b[38;5;28;43mself\u001b[39;49m\u001b[38;5;241;43m.\u001b[39;49m\u001b[43mclient\u001b[49m\u001b[38;5;241;43m.\u001b[39;49m\u001b[43mrequest\u001b[49m\u001b[43m(\u001b[49m\u001b[38;5;124;43m\"\u001b[39;49m\u001b[38;5;124;43mget\u001b[39;49m\u001b[38;5;124;43m\"\u001b[39;49m\u001b[43m,\u001b[49m\u001b[43m \u001b[49m\u001b[43murl\u001b[49m\u001b[43m,\u001b[49m\u001b[43m \u001b[49m\u001b[43mparams\u001b[49m\u001b[38;5;241;43m=\u001b[39;49m\u001b[43mparams\u001b[49m\u001b[43m)\u001b[49m\n\u001b[0;32m    183\u001b[0m \u001b[38;5;28;01mreturn\u001b[39;00m r\u001b[38;5;241m.\u001b[39mjson()\n",
      "File \u001b[1;32m~\\AppData\\Roaming\\Python\\Python39\\site-packages\\gspread\\client.py:92\u001b[0m, in \u001b[0;36mClient.request\u001b[1;34m(self, method, endpoint, params, data, json, files, headers)\u001b[0m\n\u001b[0;32m     90\u001b[0m     \u001b[38;5;28;01mreturn\u001b[39;00m response\n\u001b[0;32m     91\u001b[0m \u001b[38;5;28;01melse\u001b[39;00m:\n\u001b[1;32m---> 92\u001b[0m     \u001b[38;5;28;01mraise\u001b[39;00m APIError(response)\n",
      "\u001b[1;31mAPIError\u001b[0m: {'code': 429, 'message': \"Quota exceeded for quota metric 'Read requests' and limit 'Read requests per minute per user' of service 'sheets.googleapis.com' for consumer 'project_number:902170699260'.\", 'status': 'RESOURCE_EXHAUSTED', 'details': [{'@type': 'type.googleapis.com/google.rpc.ErrorInfo', 'reason': 'RATE_LIMIT_EXCEEDED', 'domain': 'googleapis.com', 'metadata': {'service': 'sheets.googleapis.com', 'quota_limit_value': '60', 'quota_limit': 'ReadRequestsPerMinutePerUser', 'quota_location': 'global', 'consumer': 'projects/902170699260', 'quota_metric': 'sheets.googleapis.com/read_requests'}}, {'@type': 'type.googleapis.com/google.rpc.Help', 'links': [{'description': 'Request a higher quota limit.', 'url': 'https://cloud.google.com/docs/quota#requesting_higher_quota'}]}]}"
     ]
    }
   ],
   "source": [
    "while True:\n",
    "    main_fn()\n",
    "    time.sleep(1)"
   ]
  },
  {
   "cell_type": "code",
   "execution_count": null,
   "id": "5a06e383",
   "metadata": {},
   "outputs": [],
   "source": []
  }
 ],
 "metadata": {
  "kernelspec": {
   "display_name": "Python 3 (ipykernel)",
   "language": "python",
   "name": "python3"
  },
  "language_info": {
   "codemirror_mode": {
    "name": "ipython",
    "version": 3
   },
   "file_extension": ".py",
   "mimetype": "text/x-python",
   "name": "python",
   "nbconvert_exporter": "python",
   "pygments_lexer": "ipython3",
   "version": "3.9.12"
  }
 },
 "nbformat": 4,
 "nbformat_minor": 5
}
