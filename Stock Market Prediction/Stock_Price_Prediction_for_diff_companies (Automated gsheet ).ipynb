{
 "cells": [
  {
   "cell_type": "code",
   "execution_count": 1,
   "id": "f3ff1cb3",
   "metadata": {},
   "outputs": [],
   "source": [
    "#yahoo finance as data source\n",
    "# !pip3 install yfinance\n",
    "import yfinance as yf\n",
    "from oauth2client.service_account import ServiceAccountCredentials\n",
    "import gspread as gs\n",
    "import gspread_dataframe as gd\n",
    "import pandas as pd\n",
    "import numpy as np\n",
    "import matplotlib.pyplot as plt\n",
    "import datetime\n",
    "import time"
   ]
  },
  {
   "cell_type": "code",
   "execution_count": 2,
   "id": "453ab2c0",
   "metadata": {},
   "outputs": [],
   "source": [
    "scope =[\"https://spreadsheets.google.com/feeds\",'https://www.googleapis.com/auth/spreadsheets',\n",
    "        \"https://www.googleapis.com/auth/drive.file\",\"https://www.googleapis.com/auth/drive\"]"
   ]
  },
  {
   "cell_type": "code",
   "execution_count": 3,
   "id": "5b8d5bae",
   "metadata": {},
   "outputs": [],
   "source": [
    "creds=ServiceAccountCredentials.from_json_keyfile_name(r\"C:\\Users\\MAHESH DETHE\\Downloads\\GROUP PROJECT API KEY.json\",scope)"
   ]
  },
  {
   "cell_type": "code",
   "execution_count": 4,
   "id": "889f0f32",
   "metadata": {},
   "outputs": [],
   "source": [
    "client = gs.authorize(creds)"
   ]
  },
  {
   "cell_type": "code",
   "execution_count": 5,
   "id": "aa74bbf6",
   "metadata": {},
   "outputs": [],
   "source": [
    "file = client.open(\"Final Template\").sheet1"
   ]
  },
  {
   "cell_type": "code",
   "execution_count": 6,
   "id": "3c0f504d",
   "metadata": {},
   "outputs": [],
   "source": [
    "path = r\"C:\\Users\\MAHESH DETHE\\Downloads\\MW-NIFTY-50-04-Nov-2022.csv\"\n",
    "nifty = pd.read_csv(path)\n",
    "comp_data = nifty['SYMBOL \\n'][1:].values.tolist()    #  list of Nifty 50 companies"
   ]
  },
  {
   "cell_type": "code",
   "execution_count": 7,
   "id": "f4d5d8c2",
   "metadata": {},
   "outputs": [],
   "source": [
    "# main = pd.DataFrame()\n",
    "# for i in comp_data:\n",
    "#     stock_symbol = i + '.NS'\n",
    "#     data = yf.download(tickers = stock_symbol,period = '4y',interval = '1d' )\n",
    "#     data['Name'] = i\n",
    "#     main = pd.concat([main,data],axis = 0)\n",
    "# main = main.reset_index()\n",
    "# main = main.sort_values(['Name','Date'])\n",
    "# main.to_csv('stock_price_data')"
   ]
  },
  {
   "cell_type": "code",
   "execution_count": 8,
   "id": "3bb83da3",
   "metadata": {},
   "outputs": [],
   "source": [
    "main = pd.read_csv(r\"C:\\Users\\MAHESH DETHE\\Downloads\\stock_price_data\")"
   ]
  },
  {
   "cell_type": "code",
   "execution_count": 9,
   "id": "2ada76d5",
   "metadata": {},
   "outputs": [
    {
     "data": {
      "text/plain": [
       "Index(['Unnamed: 0', 'Date', 'Open', 'High', 'Low', 'Close', 'Adj Close',\n",
       "       'Volume', 'Name'],\n",
       "      dtype='object')"
      ]
     },
     "execution_count": 9,
     "metadata": {},
     "output_type": "execute_result"
    }
   ],
   "source": [
    "main.columns"
   ]
  },
  {
   "cell_type": "code",
   "execution_count": 10,
   "id": "e58b5b38",
   "metadata": {},
   "outputs": [],
   "source": [
    "data = main[main['Name'] == 'TCS']             # data for training the model"
   ]
  },
  {
   "cell_type": "code",
   "execution_count": 11,
   "id": "4abd23a2",
   "metadata": {},
   "outputs": [],
   "source": [
    "opn = data[['Open']]"
   ]
  },
  {
   "cell_type": "code",
   "execution_count": 12,
   "id": "7492cfca",
   "metadata": {},
   "outputs": [
    {
     "data": {
      "text/plain": [
       "<AxesSubplot:>"
      ]
     },
     "execution_count": 12,
     "metadata": {},
     "output_type": "execute_result"
    },
    {
     "data": {
      "image/png": "[encoded data removed]",
      "text/plain": [
       "<Figure size 432x288 with 1 Axes>"
      ]
     },
     "metadata": {
      "needs_background": "light"
     },
     "output_type": "display_data"
    }
   ],
   "source": [
    "opn.plot()"
   ]
  },
  {
   "cell_type": "code",
   "execution_count": 13,
   "id": "a7648dd8",
   "metadata": {},
   "outputs": [],
   "source": [
    "df = opn.values"
   ]
  },
  {
   "cell_type": "code",
   "execution_count": 14,
   "id": "130e538c",
   "metadata": {},
   "outputs": [],
   "source": [
    "from sklearn.preprocessing import MinMaxScaler\n",
    "# Using MinMaxScaler for normalizing data \n",
    "mm = MinMaxScaler(feature_range=(0,1))\n",
    "scaled_df = mm.fit_transform(np.array(df).reshape(-1,1))  #df is list of open stock prices of the company"
   ]
  },
  {
   "cell_type": "code",
   "execution_count": 15,
   "id": "a3f616c9",
   "metadata": {},
   "outputs": [],
   "source": [
    "#Defining test and train data sizes\n",
    "train_size = int(len(scaled_df)*0.70)\n",
    "test_size = len(scaled_df) - train_size    "
   ]
  },
  {
   "cell_type": "code",
   "execution_count": 16,
   "id": "67a62042",
   "metadata": {},
   "outputs": [],
   "source": [
    "#Splitting data between train and test\n",
    "ds_train, ds_test = scaled_df[0:train_size,:], scaled_df[train_size:len(scaled_df),:1]     \n",
    "# we are splitting it without sklearn cause it will take random dates but we want sequential records ."
   ]
  },
  {
   "cell_type": "code",
   "execution_count": 17,
   "id": "1392462f",
   "metadata": {},
   "outputs": [],
   "source": [
    "# Creating dataset in time series for LSTM model \n",
    "def create_df(dataset,k):\n",
    "    Xtrain, Ytrain = [] , []\n",
    "    for i in range(len(dataset)-k-1):\n",
    "        new_df = dataset[i:(i+k), 0]\n",
    "        Xtrain.append(new_df)\n",
    "        Ytrain.append(dataset[i + k, 0])\n",
    "    return np.array(Xtrain), np.array(Ytrain)"
   ]
  },
  {
   "cell_type": "code",
   "execution_count": 18,
   "id": "464b60de",
   "metadata": {},
   "outputs": [],
   "source": [
    "# Taking 100 days price as one record for training\n",
    "time_stamp = 100\n",
    "X_train, y_train = create_df(ds_train,time_stamp)\n",
    "X_test, y_test = create_df(ds_test,time_stamp)"
   ]
  },
  {
   "cell_type": "code",
   "execution_count": 19,
   "id": "fdc71924",
   "metadata": {},
   "outputs": [],
   "source": [
    "# Reshaping data to fit into LSTM model\n",
    "X_train = X_train.reshape(X_train.shape[0],X_train.shape[1] , 1)\n",
    "X_test = X_test.reshape(X_test.shape[0],X_test.shape[1] , 1)"
   ]
  },
  {
   "cell_type": "code",
   "execution_count": 20,
   "id": "265fc892",
   "metadata": {},
   "outputs": [],
   "source": [
    "# importing LSTM \n",
    "from keras.models import Sequential\n",
    "from keras.layers import Dense, LSTM"
   ]
  },
  {
   "cell_type": "code",
   "execution_count": 21,
   "id": "02044a45",
   "metadata": {},
   "outputs": [
    {
     "name": "stdout",
     "output_type": "stream",
     "text": [
      "Model: \"sequential\"\n",
      "_________________________________________________________________\n",
      " Layer (type)                Output Shape              Param #   \n",
      "=================================================================\n",
      " lstm (LSTM)                 (None, 100, 50)           10400     \n",
      "                                                                 \n",
      " lstm_1 (LSTM)               (None, 100, 50)           20200     \n",
      "                                                                 \n",
      " lstm_2 (LSTM)               (None, 50)                20200     \n",
      "                                                                 \n",
      " dense (Dense)               (None, 1)                 51        \n",
      "                                                                 \n",
      "=================================================================\n",
      "Total params: 50,851\n",
      "Trainable params: 50,851\n",
      "Non-trainable params: 0\n",
      "_________________________________________________________________\n"
     ]
    }
   ],
   "source": [
    "# Creating LSTM model using keras\n",
    "model = Sequential()\n",
    "model.add(LSTM(units=50,return_sequences=True,input_shape=(X_train.shape[1],1)))\n",
    "model.add(LSTM(units=50,return_sequences=True))\n",
    "model.add(LSTM(units=50))\n",
    "model.add(Dense(units=1,activation='linear'))\n",
    "model.summary()"
   ]
  },
  {
   "cell_type": "code",
   "execution_count": 22,
   "id": "4d394a2a",
   "metadata": {},
   "outputs": [
    {
     "name": "stdout",
     "output_type": "stream",
     "text": [
      "Epoch 1/100\n",
      "10/10 [==============================] - 10s 356ms/step - loss: 0.0727 - val_loss: 0.0113\n",
      "Epoch 2/100\n",
      "10/10 [==============================] - 2s 192ms/step - loss: 0.0126 - val_loss: 0.0314\n",
      "Epoch 3/100\n",
      "10/10 [==============================] - 2s 253ms/step - loss: 0.0060 - val_loss: 0.0025\n",
      "Epoch 4/100\n",
      "10/10 [==============================] - 3s 263ms/step - loss: 0.0033 - val_loss: 0.0024\n",
      "Epoch 5/100\n",
      "10/10 [==============================] - 2s 249ms/step - loss: 0.0023 - val_loss: 0.0025\n",
      "Epoch 6/100\n",
      "10/10 [==============================] - 2s 234ms/step - loss: 0.0023 - val_loss: 0.0058\n",
      "Epoch 7/100\n",
      "10/10 [==============================] - 2s 233ms/step - loss: 0.0021 - val_loss: 0.0039\n",
      "Epoch 8/100\n",
      "10/10 [==============================] - 2s 252ms/step - loss: 0.0020 - val_loss: 0.0026\n",
      "Epoch 9/100\n",
      "10/10 [==============================] - 3s 252ms/step - loss: 0.0020 - val_loss: 0.0026\n",
      "Epoch 10/100\n",
      "10/10 [==============================] - 4s 386ms/step - loss: 0.0019 - val_loss: 0.0023\n",
      "Epoch 11/100\n",
      "10/10 [==============================] - 3s 334ms/step - loss: 0.0020 - val_loss: 0.0031\n",
      "Epoch 12/100\n",
      "10/10 [==============================] - 3s 286ms/step - loss: 0.0019 - val_loss: 0.0042\n",
      "Epoch 13/100\n",
      "10/10 [==============================] - 3s 259ms/step - loss: 0.0020 - val_loss: 0.0030\n",
      "Epoch 14/100\n",
      "10/10 [==============================] - 3s 257ms/step - loss: 0.0018 - val_loss: 0.0040\n",
      "Epoch 15/100\n",
      "10/10 [==============================] - 3s 286ms/step - loss: 0.0018 - val_loss: 0.0023\n",
      "Epoch 16/100\n",
      "10/10 [==============================] - 2s 234ms/step - loss: 0.0018 - val_loss: 0.0026\n",
      "Epoch 17/100\n",
      "10/10 [==============================] - 2s 240ms/step - loss: 0.0017 - val_loss: 0.0026\n",
      "Epoch 18/100\n",
      "10/10 [==============================] - 2s 215ms/step - loss: 0.0017 - val_loss: 0.0023\n",
      "Epoch 19/100\n",
      "10/10 [==============================] - 3s 276ms/step - loss: 0.0016 - val_loss: 0.0021\n",
      "Epoch 20/100\n",
      "10/10 [==============================] - 3s 263ms/step - loss: 0.0016 - val_loss: 0.0022\n",
      "Epoch 21/100\n",
      "10/10 [==============================] - 3s 266ms/step - loss: 0.0016 - val_loss: 0.0026\n",
      "Epoch 22/100\n",
      "10/10 [==============================] - 2s 243ms/step - loss: 0.0016 - val_loss: 0.0022\n",
      "Epoch 23/100\n",
      "10/10 [==============================] - 3s 320ms/step - loss: 0.0015 - val_loss: 0.0023\n",
      "Epoch 24/100\n",
      "10/10 [==============================] - 3s 296ms/step - loss: 0.0015 - val_loss: 0.0020\n",
      "Epoch 25/100\n",
      "10/10 [==============================] - 3s 287ms/step - loss: 0.0015 - val_loss: 0.0021\n",
      "Epoch 26/100\n",
      "10/10 [==============================] - 3s 297ms/step - loss: 0.0014 - val_loss: 0.0026\n",
      "Epoch 27/100\n",
      "10/10 [==============================] - 3s 271ms/step - loss: 0.0015 - val_loss: 0.0039\n",
      "Epoch 28/100\n",
      "10/10 [==============================] - 3s 294ms/step - loss: 0.0015 - val_loss: 0.0020\n",
      "Epoch 29/100\n",
      "10/10 [==============================] - 3s 290ms/step - loss: 0.0014 - val_loss: 0.0026\n",
      "Epoch 30/100\n",
      "10/10 [==============================] - 2s 248ms/step - loss: 0.0015 - val_loss: 0.0022\n",
      "Epoch 31/100\n",
      "10/10 [==============================] - 2s 223ms/step - loss: 0.0014 - val_loss: 0.0031\n",
      "Epoch 32/100\n",
      "10/10 [==============================] - 2s 238ms/step - loss: 0.0013 - val_loss: 0.0033\n",
      "Epoch 33/100\n",
      "10/10 [==============================] - 2s 225ms/step - loss: 0.0015 - val_loss: 0.0031\n",
      "Epoch 34/100\n",
      "10/10 [==============================] - 2s 227ms/step - loss: 0.0013 - val_loss: 0.0019\n",
      "Epoch 35/100\n",
      "10/10 [==============================] - 2s 242ms/step - loss: 0.0012 - val_loss: 0.0022\n",
      "Epoch 36/100\n",
      "10/10 [==============================] - 2s 230ms/step - loss: 0.0011 - val_loss: 0.0024\n",
      "Epoch 37/100\n",
      "10/10 [==============================] - 2s 242ms/step - loss: 0.0012 - val_loss: 0.0024\n",
      "Epoch 38/100\n",
      "10/10 [==============================] - 2s 235ms/step - loss: 0.0011 - val_loss: 0.0019\n",
      "Epoch 39/100\n",
      "10/10 [==============================] - 2s 219ms/step - loss: 0.0011 - val_loss: 0.0019\n",
      "Epoch 40/100\n",
      "10/10 [==============================] - 2s 237ms/step - loss: 0.0011 - val_loss: 0.0023\n",
      "Epoch 41/100\n",
      "10/10 [==============================] - 2s 230ms/step - loss: 0.0012 - val_loss: 0.0023\n",
      "Epoch 42/100\n",
      "10/10 [==============================] - 2s 224ms/step - loss: 0.0011 - val_loss: 0.0020\n",
      "Epoch 43/100\n",
      "10/10 [==============================] - 3s 267ms/step - loss: 9.9621e-04 - val_loss: 0.0022\n",
      "Epoch 44/100\n",
      "10/10 [==============================] - 2s 240ms/step - loss: 0.0010 - val_loss: 0.0022\n",
      "Epoch 45/100\n",
      "10/10 [==============================] - 3s 295ms/step - loss: 0.0010 - val_loss: 0.0020\n",
      "Epoch 46/100\n",
      "10/10 [==============================] - 3s 304ms/step - loss: 0.0010 - val_loss: 0.0035\n",
      "Epoch 47/100\n",
      "10/10 [==============================] - 3s 298ms/step - loss: 0.0011 - val_loss: 0.0025\n",
      "Epoch 48/100\n",
      "10/10 [==============================] - 3s 296ms/step - loss: 0.0011 - val_loss: 0.0019\n",
      "Epoch 49/100\n",
      "10/10 [==============================] - 3s 270ms/step - loss: 9.9805e-04 - val_loss: 0.0028\n",
      "Epoch 50/100\n",
      "10/10 [==============================] - 2s 250ms/step - loss: 0.0011 - val_loss: 0.0020\n",
      "Epoch 51/100\n",
      "10/10 [==============================] - 3s 272ms/step - loss: 0.0010 - val_loss: 0.0019\n",
      "Epoch 52/100\n",
      "10/10 [==============================] - 3s 271ms/step - loss: 9.4731e-04 - val_loss: 0.0019\n",
      "Epoch 53/100\n",
      "10/10 [==============================] - 3s 255ms/step - loss: 9.1406e-04 - val_loss: 0.0018\n",
      "Epoch 54/100\n",
      "10/10 [==============================] - 2s 235ms/step - loss: 9.1006e-04 - val_loss: 0.0019\n",
      "Epoch 55/100\n",
      "10/10 [==============================] - 3s 282ms/step - loss: 9.2157e-04 - val_loss: 0.0030\n",
      "Epoch 56/100\n",
      "10/10 [==============================] - 3s 309ms/step - loss: 9.5866e-04 - val_loss: 0.0018\n",
      "Epoch 57/100\n",
      "10/10 [==============================] - 3s 281ms/step - loss: 9.3838e-04 - val_loss: 0.0017\n",
      "Epoch 58/100\n",
      "10/10 [==============================] - 2s 207ms/step - loss: 8.7335e-04 - val_loss: 0.0016\n",
      "Epoch 59/100\n",
      "10/10 [==============================] - 3s 306ms/step - loss: 8.6281e-04 - val_loss: 0.0020\n",
      "Epoch 60/100\n",
      "10/10 [==============================] - 2s 237ms/step - loss: 8.6369e-04 - val_loss: 0.0016\n",
      "Epoch 61/100\n",
      "10/10 [==============================] - 2s 246ms/step - loss: 8.5625e-04 - val_loss: 0.0019\n",
      "Epoch 62/100\n",
      "10/10 [==============================] - 2s 246ms/step - loss: 8.4944e-04 - val_loss: 0.0017\n",
      "Epoch 63/100\n",
      "10/10 [==============================] - 2s 235ms/step - loss: 8.7052e-04 - val_loss: 0.0017\n",
      "Epoch 64/100\n",
      "10/10 [==============================] - 3s 265ms/step - loss: 8.7977e-04 - val_loss: 0.0016\n",
      "Epoch 65/100\n",
      "10/10 [==============================] - 2s 238ms/step - loss: 8.7113e-04 - val_loss: 0.0021\n",
      "Epoch 66/100\n",
      "10/10 [==============================] - 2s 217ms/step - loss: 8.3661e-04 - val_loss: 0.0017\n",
      "Epoch 67/100\n",
      "10/10 [==============================] - 3s 274ms/step - loss: 8.3916e-04 - val_loss: 0.0015\n",
      "Epoch 68/100\n",
      "10/10 [==============================] - 3s 268ms/step - loss: 8.2153e-04 - val_loss: 0.0016\n",
      "Epoch 69/100\n",
      "10/10 [==============================] - 2s 243ms/step - loss: 7.9578e-04 - val_loss: 0.0016\n",
      "Epoch 70/100\n",
      "10/10 [==============================] - 3s 268ms/step - loss: 8.6047e-04 - val_loss: 0.0015\n",
      "Epoch 71/100\n",
      "10/10 [==============================] - 2s 225ms/step - loss: 7.9285e-04 - val_loss: 0.0017\n",
      "Epoch 72/100\n",
      "10/10 [==============================] - 2s 230ms/step - loss: 8.3676e-04 - val_loss: 0.0014\n",
      "Epoch 73/100\n",
      "10/10 [==============================] - 2s 245ms/step - loss: 7.9140e-04 - val_loss: 0.0014\n",
      "Epoch 74/100\n",
      "10/10 [==============================] - 2s 225ms/step - loss: 7.5889e-04 - val_loss: 0.0013\n",
      "Epoch 75/100\n",
      "10/10 [==============================] - 2s 249ms/step - loss: 7.4350e-04 - val_loss: 0.0016\n",
      "Epoch 76/100\n",
      "10/10 [==============================] - 2s 228ms/step - loss: 7.5699e-04 - val_loss: 0.0013\n",
      "Epoch 77/100\n",
      "10/10 [==============================] - 2s 221ms/step - loss: 8.0994e-04 - val_loss: 0.0013\n",
      "Epoch 78/100\n",
      "10/10 [==============================] - 2s 219ms/step - loss: 7.9144e-04 - val_loss: 0.0013\n",
      "Epoch 79/100\n",
      "10/10 [==============================] - 2s 222ms/step - loss: 8.2283e-04 - val_loss: 0.0012\n",
      "Epoch 80/100\n",
      "10/10 [==============================] - 2s 215ms/step - loss: 7.9146e-04 - val_loss: 0.0012\n",
      "Epoch 81/100\n",
      "10/10 [==============================] - 2s 220ms/step - loss: 7.2838e-04 - val_loss: 0.0012\n",
      "Epoch 82/100\n",
      "10/10 [==============================] - 3s 274ms/step - loss: 7.5449e-04 - val_loss: 0.0019\n",
      "Epoch 83/100\n",
      "10/10 [==============================] - 3s 321ms/step - loss: 7.3365e-04 - val_loss: 0.0013\n",
      "Epoch 84/100\n",
      "10/10 [==============================] - 4s 354ms/step - loss: 7.0615e-04 - val_loss: 0.0011\n",
      "Epoch 85/100\n",
      "10/10 [==============================] - 4s 359ms/step - loss: 6.8544e-04 - val_loss: 0.0011\n",
      "Epoch 86/100\n",
      "10/10 [==============================] - 4s 372ms/step - loss: 7.0504e-04 - val_loss: 0.0018\n",
      "Epoch 87/100\n",
      "10/10 [==============================] - 4s 381ms/step - loss: 6.7542e-04 - val_loss: 0.0011\n",
      "Epoch 88/100\n",
      "10/10 [==============================] - 3s 347ms/step - loss: 6.5329e-04 - val_loss: 0.0011\n",
      "Epoch 89/100\n",
      "10/10 [==============================] - 4s 377ms/step - loss: 6.4549e-04 - val_loss: 0.0011\n",
      "Epoch 90/100\n",
      "10/10 [==============================] - 4s 414ms/step - loss: 6.6996e-04 - val_loss: 0.0019\n",
      "Epoch 91/100\n",
      "10/10 [==============================] - 3s 301ms/step - loss: 7.7314e-04 - val_loss: 0.0020\n",
      "Epoch 92/100\n",
      "10/10 [==============================] - 3s 313ms/step - loss: 7.4185e-04 - val_loss: 0.0021\n",
      "Epoch 93/100\n",
      "10/10 [==============================] - 5s 520ms/step - loss: 7.0323e-04 - val_loss: 0.0010\n",
      "Epoch 94/100\n",
      "10/10 [==============================] - 3s 354ms/step - loss: 6.6977e-04 - val_loss: 9.7886e-04\n",
      "Epoch 95/100\n",
      "10/10 [==============================] - 3s 331ms/step - loss: 6.9006e-04 - val_loss: 0.0018\n",
      "Epoch 96/100\n",
      "10/10 [==============================] - 3s 268ms/step - loss: 6.2709e-04 - val_loss: 9.9661e-04\n",
      "Epoch 97/100\n",
      "10/10 [==============================] - 3s 278ms/step - loss: 5.9937e-04 - val_loss: 0.0010\n",
      "Epoch 98/100\n",
      "10/10 [==============================] - 3s 286ms/step - loss: 5.9702e-04 - val_loss: 0.0011\n",
      "Epoch 99/100\n",
      "10/10 [==============================] - 3s 340ms/step - loss: 6.6120e-04 - val_loss: 0.0016\n",
      "Epoch 100/100\n",
      "10/10 [==============================] - 3s 264ms/step - loss: 6.5715e-04 - val_loss: 8.9764e-04\n"
     ]
    },
    {
     "data": {
      "text/plain": [
       "<keras.callbacks.History at 0x1a4d3865880>"
      ]
     },
     "execution_count": 22,
     "metadata": {},
     "output_type": "execute_result"
    }
   ],
   "source": [
    "#Training model with adam optimizer and mean squared error loss function\n",
    "model.compile( loss = 'mean_squared_error', optimizer = 'adam' )\n",
    "model.fit(X_train,y_train,validation_data = (X_test , y_test), epochs = 100, batch_size = 64 )"
   ]
  },
  {
   "cell_type": "code",
   "execution_count": 23,
   "id": "259affdc",
   "metadata": {},
   "outputs": [
    {
     "data": {
      "text/plain": [
       "[<matplotlib.lines.Line2D at 0x1a4dbef9880>]"
      ]
     },
     "execution_count": 23,
     "metadata": {},
     "output_type": "execute_result"
    },
    {
     "data": {
      "image/png": "[encoded data removed]",
      "text/plain": [
       "<Figure size 432x288 with 1 Axes>"
      ]
     },
     "metadata": {
      "needs_background": "light"
     },
     "output_type": "display_data"
    }
   ],
   "source": [
    "#PLotting loss, it shows that loss has decreased significantly and model trained well\n",
    "loss = model.history.history['loss']\n",
    "plt.plot(loss)"
   ]
  },
  {
   "cell_type": "code",
   "execution_count": 24,
   "id": "47734c56",
   "metadata": {},
   "outputs": [
    {
     "name": "stdout",
     "output_type": "stream",
     "text": [
      "19/19 [==============================] - 4s 50ms/step\n",
      "7/7 [==============================] - 0s 43ms/step\n"
     ]
    }
   ],
   "source": [
    "#Predicitng on train and test data\n",
    "train_predict = model.predict(X_train)\n",
    "test_predict = model.predict(X_test)"
   ]
  },
  {
   "cell_type": "code",
   "execution_count": 25,
   "id": "bf809033",
   "metadata": {},
   "outputs": [],
   "source": [
    "#Inverse transform to get actual value\n",
    "train_predict = mm.inverse_transform(train_predict)\n",
    "test_predict = mm.inverse_transform(test_predict)"
   ]
  },
  {
   "cell_type": "code",
   "execution_count": 26,
   "id": "58bf955b",
   "metadata": {},
   "outputs": [
    {
     "data": {
      "text/plain": [
       "[<matplotlib.lines.Line2D at 0x1a4de429b20>]"
      ]
     },
     "execution_count": 26,
     "metadata": {},
     "output_type": "execute_result"
    },
    {
     "data": {
      "image/png": "[encoded data removed]",
      "text/plain": [
       "<Figure size 432x288 with 1 Axes>"
      ]
     },
     "metadata": {
      "needs_background": "light"
     },
     "output_type": "display_data"
    }
   ],
   "source": [
    "#Comparing using visuals\n",
    "plt.plot(mm.inverse_transform(scaled_df))\n",
    "plt.plot(train_predict)\n",
    "plt.plot(test_predict)"
   ]
  },
  {
   "cell_type": "code",
   "execution_count": 27,
   "id": "1ce359e4",
   "metadata": {},
   "outputs": [],
   "source": [
    "test = np.vstack((train_predict,test_predict))"
   ]
  },
  {
   "cell_type": "code",
   "execution_count": 28,
   "id": "34906ff3",
   "metadata": {},
   "outputs": [
    {
     "data": {
      "text/plain": [
       "[<matplotlib.lines.Line2D at 0x1a4de38ee50>]"
      ]
     },
     "execution_count": 28,
     "metadata": {},
     "output_type": "execute_result"
    },
    {
     "data": {
      "image/png": "[encoded data removed]",
      "text/plain": [
       "<Figure size 432x288 with 1 Axes>"
      ]
     },
     "metadata": {
      "needs_background": "light"
     },
     "output_type": "display_data"
    }
   ],
   "source": [
    "# Combining the predited data to create uniform data visualization\n",
    "plt.plot(mm.inverse_transform(scaled_df))\n",
    "plt.plot(test)"
   ]
  },
  {
   "cell_type": "code",
   "execution_count": 64,
   "id": "0a134e88",
   "metadata": {},
   "outputs": [],
   "source": [
    "# function for automating gsheet\n",
    "def main_fn():\n",
    "    name = file.cell(1,4).value     #checking company name\n",
    "    # for buying date\n",
    "    buy_date = file.cell(3,4).value.split('-')  #checking buying date\n",
    "    \n",
    "    y_buy  = [int(i) for i in buy_date]\n",
    "    b_date = datetime.date(y_buy[0],y_buy[1],y_buy[2])\n",
    "    \n",
    "    #if date is in the data,take the same stock price as in the data else predict\n",
    "    \n",
    "    sub = main[main['Name'] == name]\n",
    "    x = file.cell(3,4).value\n",
    "    if x in main['Date'].values:\n",
    "        val_x = sub.loc[sub['Date'] == x,'Open'].values[0]\n",
    "        file.update_cell(7,4,val_x)\n",
    "    elif b_date >= datetime.date(2022,11,5):\n",
    "        diff = (b_date - datetime.date(2022,11,4)).days\n",
    "        #predict\n",
    "        #Getting the last 100 days records\n",
    "        m = sub['Open'].tail(100)\n",
    "        fut_inp = sub['Open'].tail(100).values.reshape(-1,1).reshape(1,-1)\n",
    "        tmp_inp = list(fut_inp)\n",
    "        #Creating list of the last 100 data\n",
    "        tmp_inp = tmp_inp[0].tolist()\n",
    "        list_output=[]\n",
    "        n_steps=100\n",
    "        i=0\n",
    "        while(i < diff ):\n",
    "            if(len(tmp_inp)>100):\n",
    "                fut_inp = np.array(tmp_inp[1:])\n",
    "                fut_inp=fut_inp.reshape(1,-1)\n",
    "                fut_inp = fut_inp.reshape((1, n_steps, 1))\n",
    "                y_pred = model.predict(fut_inp, verbose=0)\n",
    "                tmp_inp.extend(y_pred[0].tolist())\n",
    "                tmp_inp = tmp_inp[1:]\n",
    "                list_output.extend(y_pred.tolist())\n",
    "                i = i + 1\n",
    "            else:\n",
    "                fut_inp = fut_inp.reshape((1, n_steps,1))\n",
    "                y_pred = model.predict(fut_inp, verbose=0)\n",
    "                tmp_inp.extend(y_pred[0].tolist())\n",
    "                list_output.extend(y_pred.tolist())\n",
    "                i = i + 1\n",
    "        from sklearn.preprocessing import StandardScaler\n",
    "        # Using StandardScaler for normalizing data \n",
    "        MM1 = StandardScaler()\n",
    "        scaled_df_1 = MM1.fit_transform(np.array(m).reshape(-1,1))  #df is list of open stock prices of the company\n",
    "        final = MM1.inverse_transform([[list_output[-1][-1]]])[0][0]\n",
    "        file.update_cell(7,4,final)            \n",
    "    #checking selling date\n",
    "    sell_date = file.cell(4,4).value.split('-')\n",
    "    y_sell = [int(i) for i in sell_date]\n",
    "    s_date = datetime.date(y_sell[0],y_sell[1],y_sell[2])\n",
    "    #if date is in the data,take the same stock price as in the data else predict\n",
    "    y = file.cell(4,4).value\n",
    "    if y in main['Date'].values:\n",
    "        val_y = sub.loc[sub['Date'] == y,'Open'].values[0]\n",
    "        file.update_cell(8,4,val_y)\n",
    "    elif s_date >= datetime.date(2022,11,5):\n",
    "        diff = (s_date - datetime.date(2022,11,4)).days\n",
    "        #predict\n",
    "        #Getting the last 100 days records\n",
    "        n = sub['Open'].tail(100)\n",
    "        fut_inp1 = sub['Open'].tail(100).values.reshape(-1,1).reshape(1,-1)\n",
    "        tmp_inp1 = list(fut_inp1)\n",
    "        #Creating list of the last 100 data\n",
    "        tmp_inp1 = tmp_inp1[0].tolist()\n",
    "        list_output1=[]\n",
    "        n_steps = 100\n",
    "        i = 0\n",
    "        while(i < diff  ):\n",
    "            if(len(tmp_inp1)>100):\n",
    "                fut_inp1 = np.array(tmp_inp1[1:])\n",
    "                fut_inp1 = fut_inp1.reshape(1,-1)\n",
    "                fut_inp1 = fut_inp1.reshape((1, n_steps, 1))\n",
    "                y_pred1 = model.predict(fut_inp1, verbose=0)\n",
    "                tmp_inp1.extend(y_pred1[0].tolist())\n",
    "                tmp_inp1 = tmp_inp1[1:]\n",
    "                list_output1.extend(y_pred1.tolist())\n",
    "                i = i + 1\n",
    "            else:\n",
    "                fut_inp1 = fut_inp1.reshape((1, n_steps,1))\n",
    "                y_pred1 = model.predict(fut_inp1, verbose=0)\n",
    "                tmp_inp1.extend(y_pred1[0].tolist())\n",
    "                list_output1.extend(y_pred1.tolist())\n",
    "                i = i + 1\n",
    "        from sklearn.preprocessing import StandardScaler\n",
    "        # Using StandardScaler for normalizing data \n",
    "        MM2 = StandardScaler()\n",
    "        scaled_df_2 = MM2.fit_transform(np.array(n).reshape(-1,1))  #df is list of open stock prices of the company\n",
    "        final1 = MM2.inverse_transform([[list_output1[-1][-1]]])[0][0]\n",
    "        file.update_cell(8,4,final1)"
   ]
  },
  {
   "cell_type": "code",
   "execution_count": 65,
   "id": "78436c7b",
   "metadata": {},
   "outputs": [
    {
     "ename": "APIError",
     "evalue": "{'code': 429, 'message': \"Quota exceeded for quota metric 'Read requests' and limit 'Read requests per minute per user' of service 'sheets.googleapis.com' for consumer 'project_number:902170699260'.\", 'status': 'RESOURCE_EXHAUSTED', 'details': [{'@type': 'type.googleapis.com/google.rpc.ErrorInfo', 'reason': 'RATE_LIMIT_EXCEEDED', 'domain': 'googleapis.com', 'metadata': {'consumer': 'projects/902170699260', 'service': 'sheets.googleapis.com', 'quota_limit_value': '60', 'quota_location': 'global', 'quota_metric': 'sheets.googleapis.com/read_requests', 'quota_limit': 'ReadRequestsPerMinutePerUser'}}, {'@type': 'type.googleapis.com/google.rpc.Help', 'links': [{'description': 'Request a higher quota limit.', 'url': 'https://cloud.google.com/docs/quota#requesting_higher_quota'}]}]}",
     "output_type": "error",
     "traceback": [
      "\u001b[1;31m---------------------------------------------------------------------------\u001b[0m",
      "\u001b[1;31mAPIError\u001b[0m                                  Traceback (most recent call last)",
      "Input \u001b[1;32mIn [65]\u001b[0m, in \u001b[0;36m<cell line: 2>\u001b[1;34m()\u001b[0m\n\u001b[0;32m      1\u001b[0m \u001b[38;5;28;01mwhile\u001b[39;00m (\u001b[38;5;28;01mTrue\u001b[39;00m):\n\u001b[1;32m----> 2\u001b[0m     \u001b[43mmain_fn\u001b[49m\u001b[43m(\u001b[49m\u001b[43m)\u001b[49m\n\u001b[0;32m      3\u001b[0m     time\u001b[38;5;241m.\u001b[39msleep(\u001b[38;5;241m1\u001b[39m)\n",
      "Input \u001b[1;32mIn [64]\u001b[0m, in \u001b[0;36mmain_fn\u001b[1;34m()\u001b[0m\n\u001b[0;32m      3\u001b[0m name \u001b[38;5;241m=\u001b[39m file\u001b[38;5;241m.\u001b[39mcell(\u001b[38;5;241m1\u001b[39m,\u001b[38;5;241m4\u001b[39m)\u001b[38;5;241m.\u001b[39mvalue     \u001b[38;5;66;03m#checking company name\u001b[39;00m\n\u001b[0;32m      4\u001b[0m \u001b[38;5;66;03m# for buying date\u001b[39;00m\n\u001b[1;32m----> 5\u001b[0m buy_date \u001b[38;5;241m=\u001b[39m \u001b[43mfile\u001b[49m\u001b[38;5;241;43m.\u001b[39;49m\u001b[43mcell\u001b[49m\u001b[43m(\u001b[49m\u001b[38;5;241;43m3\u001b[39;49m\u001b[43m,\u001b[49m\u001b[38;5;241;43m4\u001b[39;49m\u001b[43m)\u001b[49m\u001b[38;5;241m.\u001b[39mvalue\u001b[38;5;241m.\u001b[39msplit(\u001b[38;5;124m'\u001b[39m\u001b[38;5;124m-\u001b[39m\u001b[38;5;124m'\u001b[39m)  \u001b[38;5;66;03m#checking buying date\u001b[39;00m\n\u001b[0;32m      7\u001b[0m y_buy  \u001b[38;5;241m=\u001b[39m [\u001b[38;5;28mint\u001b[39m(i) \u001b[38;5;28;01mfor\u001b[39;00m i \u001b[38;5;129;01min\u001b[39;00m buy_date]\n\u001b[0;32m      8\u001b[0m b_date \u001b[38;5;241m=\u001b[39m datetime\u001b[38;5;241m.\u001b[39mdate(y_buy[\u001b[38;5;241m0\u001b[39m],y_buy[\u001b[38;5;241m1\u001b[39m],y_buy[\u001b[38;5;241m2\u001b[39m])\n",
      "File \u001b[1;32m~\\AppData\\Roaming\\Python\\Python39\\site-packages\\gspread\\worksheet.py:248\u001b[0m, in \u001b[0;36mWorksheet.cell\u001b[1;34m(self, row, col, value_render_option)\u001b[0m\n\u001b[0;32m    224\u001b[0m \u001b[38;5;124;03m\"\"\"Returns an instance of a :class:`gspread.cell.Cell` located at\u001b[39;00m\n\u001b[0;32m    225\u001b[0m \u001b[38;5;124;03m`row` and `col` column.\u001b[39;00m\n\u001b[0;32m    226\u001b[0m \n\u001b[1;32m   (...)\u001b[0m\n\u001b[0;32m    245\u001b[0m \u001b[38;5;124;03m:rtype: :class:`gspread.cell.Cell`\u001b[39;00m\n\u001b[0;32m    246\u001b[0m \u001b[38;5;124;03m\"\"\"\u001b[39;00m\n\u001b[0;32m    247\u001b[0m \u001b[38;5;28;01mtry\u001b[39;00m:\n\u001b[1;32m--> 248\u001b[0m     data \u001b[38;5;241m=\u001b[39m \u001b[38;5;28;43mself\u001b[39;49m\u001b[38;5;241;43m.\u001b[39;49m\u001b[43mget\u001b[49m\u001b[43m(\u001b[49m\n\u001b[0;32m    249\u001b[0m \u001b[43m        \u001b[49m\u001b[43mrowcol_to_a1\u001b[49m\u001b[43m(\u001b[49m\u001b[43mrow\u001b[49m\u001b[43m,\u001b[49m\u001b[43m \u001b[49m\u001b[43mcol\u001b[49m\u001b[43m)\u001b[49m\u001b[43m,\u001b[49m\u001b[43m \u001b[49m\u001b[43mvalue_render_option\u001b[49m\u001b[38;5;241;43m=\u001b[39;49m\u001b[43mvalue_render_option\u001b[49m\n\u001b[0;32m    250\u001b[0m \u001b[43m    \u001b[49m\u001b[43m)\u001b[49m\n\u001b[0;32m    252\u001b[0m     value \u001b[38;5;241m=\u001b[39m data\u001b[38;5;241m.\u001b[39mfirst()\n\u001b[0;32m    253\u001b[0m \u001b[38;5;28;01mexcept\u001b[39;00m \u001b[38;5;167;01mKeyError\u001b[39;00m:\n",
      "File \u001b[1;32m~\\AppData\\Roaming\\Python\\Python39\\site-packages\\gspread\\utils.py:671\u001b[0m, in \u001b[0;36maccepted_kwargs.<locals>.decorate.<locals>.wrapper\u001b[1;34m(*args, **kwargs)\u001b[0m\n\u001b[0;32m    668\u001b[0m \u001b[38;5;28;01mfor\u001b[39;00m k, v \u001b[38;5;129;01min\u001b[39;00m default_kwargs\u001b[38;5;241m.\u001b[39mitems():\n\u001b[0;32m    669\u001b[0m     kwargs\u001b[38;5;241m.\u001b[39msetdefault(k, v)\n\u001b[1;32m--> 671\u001b[0m \u001b[38;5;28;01mreturn\u001b[39;00m f(\u001b[38;5;241m*\u001b[39margs, \u001b[38;5;241m*\u001b[39m\u001b[38;5;241m*\u001b[39mkwargs)\n",
      "File \u001b[1;32m~\\AppData\\Roaming\\Python\\Python39\\site-packages\\gspread\\worksheet.py:713\u001b[0m, in \u001b[0;36mWorksheet.get\u001b[1;34m(self, range_name, **kwargs)\u001b[0m\n\u001b[0;32m    703\u001b[0m range_name \u001b[38;5;241m=\u001b[39m absolute_range_name(\u001b[38;5;28mself\u001b[39m\u001b[38;5;241m.\u001b[39mtitle, range_name)\n\u001b[0;32m    705\u001b[0m params \u001b[38;5;241m=\u001b[39m filter_dict_values(\n\u001b[0;32m    706\u001b[0m     {\n\u001b[0;32m    707\u001b[0m         \u001b[38;5;124m\"\u001b[39m\u001b[38;5;124mmajorDimension\u001b[39m\u001b[38;5;124m\"\u001b[39m: kwargs[\u001b[38;5;124m\"\u001b[39m\u001b[38;5;124mmajor_dimension\u001b[39m\u001b[38;5;124m\"\u001b[39m],\n\u001b[1;32m   (...)\u001b[0m\n\u001b[0;32m    710\u001b[0m     }\n\u001b[0;32m    711\u001b[0m )\n\u001b[1;32m--> 713\u001b[0m response \u001b[38;5;241m=\u001b[39m \u001b[38;5;28;43mself\u001b[39;49m\u001b[38;5;241;43m.\u001b[39;49m\u001b[43mspreadsheet\u001b[49m\u001b[38;5;241;43m.\u001b[39;49m\u001b[43mvalues_get\u001b[49m\u001b[43m(\u001b[49m\u001b[43mrange_name\u001b[49m\u001b[43m,\u001b[49m\u001b[43m \u001b[49m\u001b[43mparams\u001b[49m\u001b[38;5;241;43m=\u001b[39;49m\u001b[43mparams\u001b[49m\u001b[43m)\u001b[49m\n\u001b[0;32m    715\u001b[0m \u001b[38;5;28;01mreturn\u001b[39;00m ValueRange\u001b[38;5;241m.\u001b[39mfrom_json(response)\n",
      "File \u001b[1;32m~\\AppData\\Roaming\\Python\\Python39\\site-packages\\gspread\\spreadsheet.py:182\u001b[0m, in \u001b[0;36mSpreadsheet.values_get\u001b[1;34m(self, range, params)\u001b[0m\n\u001b[0;32m    172\u001b[0m \u001b[38;5;124;03m\"\"\"Lower-level method that directly calls `spreadsheets/<ID>/values/<range> <https://developers.google.com/sheets/api/reference/rest/v4/spreadsheets.values/get>`_.\u001b[39;00m\n\u001b[0;32m    173\u001b[0m \n\u001b[0;32m    174\u001b[0m \u001b[38;5;124;03m:param str range: The `A1 notation <https://developers.google.com/sheets/api/guides/concepts#a1_notation>`_ of the values to retrieve.\u001b[39;00m\n\u001b[1;32m   (...)\u001b[0m\n\u001b[0;32m    179\u001b[0m \u001b[38;5;124;03m.. versionadded:: 3.0\u001b[39;00m\n\u001b[0;32m    180\u001b[0m \u001b[38;5;124;03m\"\"\"\u001b[39;00m\n\u001b[0;32m    181\u001b[0m url \u001b[38;5;241m=\u001b[39m SPREADSHEET_VALUES_URL \u001b[38;5;241m%\u001b[39m (\u001b[38;5;28mself\u001b[39m\u001b[38;5;241m.\u001b[39mid, quote(\u001b[38;5;28mrange\u001b[39m))\n\u001b[1;32m--> 182\u001b[0m r \u001b[38;5;241m=\u001b[39m \u001b[38;5;28;43mself\u001b[39;49m\u001b[38;5;241;43m.\u001b[39;49m\u001b[43mclient\u001b[49m\u001b[38;5;241;43m.\u001b[39;49m\u001b[43mrequest\u001b[49m\u001b[43m(\u001b[49m\u001b[38;5;124;43m\"\u001b[39;49m\u001b[38;5;124;43mget\u001b[39;49m\u001b[38;5;124;43m\"\u001b[39;49m\u001b[43m,\u001b[49m\u001b[43m \u001b[49m\u001b[43murl\u001b[49m\u001b[43m,\u001b[49m\u001b[43m \u001b[49m\u001b[43mparams\u001b[49m\u001b[38;5;241;43m=\u001b[39;49m\u001b[43mparams\u001b[49m\u001b[43m)\u001b[49m\n\u001b[0;32m    183\u001b[0m \u001b[38;5;28;01mreturn\u001b[39;00m r\u001b[38;5;241m.\u001b[39mjson()\n",
      "File \u001b[1;32m~\\AppData\\Roaming\\Python\\Python39\\site-packages\\gspread\\client.py:92\u001b[0m, in \u001b[0;36mClient.request\u001b[1;34m(self, method, endpoint, params, data, json, files, headers)\u001b[0m\n\u001b[0;32m     90\u001b[0m     \u001b[38;5;28;01mreturn\u001b[39;00m response\n\u001b[0;32m     91\u001b[0m \u001b[38;5;28;01melse\u001b[39;00m:\n\u001b[1;32m---> 92\u001b[0m     \u001b[38;5;28;01mraise\u001b[39;00m APIError(response)\n",
      "\u001b[1;31mAPIError\u001b[0m: {'code': 429, 'message': \"Quota exceeded for quota metric 'Read requests' and limit 'Read requests per minute per user' of service 'sheets.googleapis.com' for consumer 'project_number:902170699260'.\", 'status': 'RESOURCE_EXHAUSTED', 'details': [{'@type': 'type.googleapis.com/google.rpc.ErrorInfo', 'reason': 'RATE_LIMIT_EXCEEDED', 'domain': 'googleapis.com', 'metadata': {'consumer': 'projects/902170699260', 'service': 'sheets.googleapis.com', 'quota_limit_value': '60', 'quota_location': 'global', 'quota_metric': 'sheets.googleapis.com/read_requests', 'quota_limit': 'ReadRequestsPerMinutePerUser'}}, {'@type': 'type.googleapis.com/google.rpc.Help', 'links': [{'description': 'Request a higher quota limit.', 'url': 'https://cloud.google.com/docs/quota#requesting_higher_quota'}]}]}"
     ]
    }
   ],
   "source": [
    "while (True):\n",
    "    main_fn()\n",
    "    time.sleep(1)"
   ]
  },
  {
   "cell_type": "code",
   "execution_count": null,
   "id": "5a06e383",
   "metadata": {},
   "outputs": [],
   "source": []
  }
 ],
 "metadata": {
  "kernelspec": {
   "display_name": "Python 3 (ipykernel)",
   "language": "python",
   "name": "python3"
  },
  "language_info": {
   "codemirror_mode": {
    "name": "ipython",
    "version": 3
   },
   "file_extension": ".py",
   "mimetype": "text/x-python",
   "name": "python",
   "nbconvert_exporter": "python",
   "pygments_lexer": "ipython3",
   "version": "3.9.12"
  }
 },
 "nbformat": 4,
 "nbformat_minor": 5
}
